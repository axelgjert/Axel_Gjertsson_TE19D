{
 "metadata": {
  "language_info": {
   "codemirror_mode": {
    "name": "ipython",
    "version": 3
   },
   "file_extension": ".py",
   "mimetype": "text/x-python",
   "name": "python",
   "nbconvert_exporter": "python",
   "pygments_lexer": "ipython3",
   "version": "3.8.3-final"
  },
  "orig_nbformat": 2,
  "kernelspec": {
   "name": "Python 3.8.3 64-bit (conda)",
   "display_name": "Python 3.8.3 64-bit (conda)",
   "metadata": {
    "interpreter": {
     "hash": "351117015787cdf48be7aa58e8888e8c7e10d177bec0d68be7bed33887af3389"
    }
   }
  }
 },
 "nbformat": 4,
 "nbformat_minor": 2,
 "cells": [
  {
   "cell_type": "code",
   "execution_count": 7,
   "metadata": {},
   "outputs": [
    {
     "output_type": "stream",
     "name": "stdout",
     "text": [
      "0.7071067811865476\n"
     ]
    }
   ],
   "source": [
    "#uppgift1 a\n",
    "import math\n",
    "\n",
    "x1 = 0\n",
    "x2 = 0\n",
    "y1 = 0.5\n",
    "y2 = 0.5\n",
    "\n",
    "y = math.sqrt((y1-x2)**2+(y2-x1)**2)\n",
    "\n",
    "print(y)\n",
    "\n",
    "\n",
    "\n",
    "\n",
    "\n"
   ]
  },
  {
   "cell_type": "code",
   "execution_count": 14,
   "metadata": {},
   "outputs": [
    {
     "output_type": "execute_result",
     "data": {
      "text/plain": [
       "1.0"
      ]
     },
     "metadata": {},
     "execution_count": 14
    }
   ],
   "source": [
    "#uppgift1 b\n",
    "import math\n",
    "\n",
    "x1 = 0\n",
    "x2 = 0\n",
    "y1 = 1\n",
    "y2 = 1\n",
    "\n",
    "math.sqrt((y1-x2)**2+(y2-x1)**2)"
   ]
  },
  {
   "cell_type": "code",
   "execution_count": 16,
   "metadata": {},
   "outputs": [
    {
     "output_type": "execute_result",
     "data": {
      "text/plain": [
       "0.7071067811865476"
      ]
     },
     "metadata": {},
     "execution_count": 16
    }
   ],
   "source": [
    "#uppgift1 c\n",
    "import math\n",
    "\n",
    "x1 = 0\n",
    "x2 = 0\n",
    "y1 = 0.5\n",
    "y2 = -0.5\n",
    "\n",
    "math.sqrt((y1-x2)**2+(y2-x1)**2)"
   ]
  },
  {
   "cell_type": "code",
   "execution_count": 14,
   "metadata": {},
   "outputs": [
    {
     "output_type": "stream",
     "name": "stdout",
     "text": [
      "-0.43556464429209707 0.0746227484378339 0.887748521111724 0.852137289348601\n"
     ]
    }
   ],
   "source": [
    "#uppgift1 d\n",
    "\n",
    "import math\n",
    "import random\n",
    "\n",
    "x1 = random.uniform(-1,1)\n",
    "y1 = random.uniform(-1,1)\n",
    "x2 = random.uniform(-1,1)\n",
    "y2 = random.uniform(-1,1)\n",
    "\n",
    "print(x1, y1, x2, y2)"
   ]
  },
  {
   "cell_type": "code",
   "execution_count": 22,
   "metadata": {},
   "outputs": [
    {
     "output_type": "stream",
     "name": "stdout",
     "text": [
      "0.953269915193004\n0.7374114273801933\n1.0033419533509393\n0.32872203108221953\n0.44799899307499425\n1.1926768685960283\n0.5586557176288455\n0.7334227170022568\n1.0875996236223684\n0.910218042484903\n0.8228612469633673\n0.9122483496387138\n0.5226088843209077\n0.5035357870092102\n0.3595643020931269\ndet finns 12st punkter innanför cirkeln.\n"
     ]
    }
   ],
   "source": [
    "#uppgift1 e\n",
    "\n",
    "import math\n",
    "import random\n",
    "inne = 0\n",
    "\n",
    "\n",
    "for i in range (15):\n",
    "\n",
    "    x1 = random.uniform(-1,1)\n",
    "    y1 = random.uniform(-1,1)\n",
    "\n",
    "    avstånd = math.sqrt((x1-0)**2+(y1-0)**2)\n",
    "\n",
    "    print(avstånd)\n",
    "\n",
    "    if avstånd <= 1: \n",
    "        inne +=1\n",
    " \n",
    "        \n",
    "\n",
    "print(f\"det finns {inne}st punkter innanför cirkeln.\")\n",
    "\n",
    "\n",
    "#\n",
    " #print(\"Punkten är innanför cirkeln\")\n",
    "\n",
    "    #if avstånd > 1:\n",
    "        #print(\"Punkten är utanför cirkeln\") \n",
    "\n"
   ]
  },
  {
   "cell_type": "code",
   "execution_count": 13,
   "metadata": {},
   "outputs": [
    {
     "output_type": "stream",
     "name": "stdout",
     "text": [
      "4.0st punkter innanför / simulerade punkter\n"
     ]
    }
   ],
   "source": [
    "#uppgif1 f\n",
    "import random as rnd\n",
    "import math\n",
    "z = 0\n",
    "\n",
    "for i in range(1000) :\n",
    "    x = rnd.uniform(-1,1)\n",
    "    y = rnd.uniform(-1,1)\n",
    "    n = math.sqrt(x2 + y2)\n",
    "    if n < 1:\n",
    "        z = (z+1)\n",
    "\n",
    "\n",
    "print(f\"{(z/1000)*4}st punkter innanför / simulerade punkter\")\n"
   ]
  },
  {
   "cell_type": "code",
   "execution_count": null,
   "metadata": {},
   "outputs": [],
   "source": [
    "#uppgift1 g\n",
    "\n"
   ]
  },
  {
   "cell_type": "code",
   "execution_count": null,
   "metadata": {},
   "outputs": [],
   "source": [
    "#uppgift1 h\n",
    "\n"
   ]
  },
  {
   "cell_type": "code",
   "execution_count": 1,
   "metadata": {},
   "outputs": [
    {
     "output_type": "stream",
     "name": "stdout",
     "text": [
      "1\n2\n3\n4\n5\n6\n7\n8\n9\n10\n11\n12\n13\n14\n15\n16\n17\n18\n19\n20\n21\n22\n23\n24\n25\n26\n27\n28\n29\n30\n31\n32\n33\n34\n35\n36\n37\n38\n39\n40\n41\n42\n43\n44\n45\n46\n47\n48\n49\n50\n51\n52\n53\n54\n55\n56\n57\n58\n59\n60\n61\n62\n63\n64\n65\n66\n67\n68\n69\n70\n71\n72\n73\n74\n75\n76\n77\n78\n79\n80\n81\n82\n83\n84\n85\n86\n87\n88\n89\n90\n91\n92\n93\n94\n95\n96\n97\n98\n99\n100\n"
     ]
    }
   ],
   "source": [
    "#uppgift2 a\n",
    "\n",
    "for i in range(1, 101):\n",
    "    print(i)\n"
   ]
  },
  {
   "cell_type": "code",
   "execution_count": 33,
   "metadata": {},
   "outputs": [
    {
     "output_type": "stream",
     "name": "stdout",
     "text": [
      "1\n2\n3\n4\nburr\n6\n7\n8\n9\nburr\n11\n12\n13\n14\nburr\n16\n17\n18\n19\nburr\n21\n22\n23\n24\nburr\n26\n27\n28\n29\nburr\n31\n32\n33\n34\nburr\n36\n37\n38\n39\nburr\n41\n42\n43\n44\nburr\n46\n47\n48\n49\nburr\n51\n52\n53\n54\nburr\n56\n57\n58\n59\nburr\n61\n62\n63\n64\nburr\n66\n67\n68\n69\nburr\n71\n72\n73\n74\nburr\n76\n77\n78\n79\nburr\n81\n82\n83\n84\nburr\n86\n87\n88\n89\nburr\n91\n92\n93\n94\nburr\n96\n97\n98\n99\nburr\n"
     ]
    }
   ],
   "source": [
    "#uppgift2 b\n",
    "\n",
    "for i in range(1,101):\n",
    "    if i % 5 == 0:\n",
    "        print(\"burr\")\n",
    "    else: print(i)\n",
    "\n"
   ]
  },
  {
   "cell_type": "code",
   "execution_count": 38,
   "metadata": {},
   "outputs": [
    {
     "output_type": "stream",
     "name": "stdout",
     "text": [
      "1\n2\n3\n4\n5\n6\nburr\n8\n9\n10\n11\n12\n13\nburr\n15\n16\n17\n18\n19\n20\nburr\n22\n23\n24\n25\n26\n27\nburr\n29\n30\n31\n32\n33\n34\nburr\n36\n37\n38\n39\n40\n41\nburr\n43\n44\n45\n46\n47\n48\nburr\n50\n51\n52\n53\n54\n55\nburr\n57\n58\n59\n60\n61\n62\nburr\n64\n65\n66\n67\n68\n69\nburr\n71\n72\n73\n74\n75\n76\nburr\n78\n79\n80\n81\n82\n83\nburr\n85\n86\n87\n88\n89\n90\nburr\n92\n93\n94\n95\n96\n97\nburr\n99\n100\n"
     ]
    }
   ],
   "source": [
    "#uppgift2 c\n",
    "\n",
    "i = int(input(\"Ange ett tal\"))\n",
    "for x in range(1,101):\n",
    "    if x % i == 0:\n",
    "        print(\"burr\")\n",
    "    else: print(x)\n",
    "\n"
   ]
  },
  {
   "cell_type": "code",
   "execution_count": 39,
   "metadata": {},
   "outputs": [
    {
     "output_type": "stream",
     "name": "stdout",
     "text": [
      "1\n2\n3\nburr\n4\n5\n6\n7\nburr\n8\nbirr\n10\n11\nburr\n12\n13\n14\n15\nburr\n16\n17\nbirr\n19\nburr\n20\n21\n22\n23\nburr\n24\n25\n26\nbirr\nburr\n28\n29\n30\n31\nburr\n32\n33\n34\n35\nburr\nbirr\n37\n38\n39\nburr\n40\n41\n42\n43\nburr\n44\nbirr\n46\n47\nburr\n48\n49\n50\n51\nburr\n52\n53\nbirr\n55\nburr\n56\n57\n58\n59\nburr\n60\n61\n62\nbirr\nburr\n64\n65\n66\n67\nburr\n68\n69\n70\n71\nburr\nbirr\n73\n74\n75\nburr\n76\n77\n78\n79\nburr\n80\nbirr\n82\n83\nburr\n84\n85\n86\n87\nburr\n88\n89\nbirr\n91\nburr\n92\n93\n94\n95\nburr\n96\n97\n98\nbirr\nburr\n100\n"
     ]
    }
   ],
   "source": [
    "#uppgift2 d\n",
    "i = int(input(\"Ange ett tal\"))\n",
    "y = int(input(\"Ange ett tal till\"))\n",
    "\n",
    "for x in range(1,101):\n",
    "    if x % i == 0:\n",
    "        print(\"burr\")\n",
    "    if x % y == 0:\n",
    "        print(\"birr\")\n",
    "    else: print(x)\n",
    "\n"
   ]
  },
  {
   "cell_type": "code",
   "execution_count": 19,
   "metadata": {},
   "outputs": [
    {
     "output_type": "stream",
     "name": "stdout",
     "text": [
      "1\n2\n3\n4\nburr\n6\n7\nbirr\n9\nburr\n11\n12\n13\n14\nburr\nbirr\n17\n18\n19\nburr\n21\n22\n23\nbirr\nburr\n26\n27\n28\n29\nburr\n31\nbirr\n33\n34\nburr\n36\n37\n38\n39\nbirrburr\n41\n42\n43\n44\nburr\n46\n47\nbirr\n49\n"
     ]
    }
   ],
   "source": [
    "#uppgift2 e\n",
    "\n",
    "burr = int(input(\"Ange ett tal som ska vara din multippel\"))\n",
    "birr = int(input(\"Ange en till multippel\"))\n",
    "start = int(input(\"Ange vart tabellen ska börja\"))\n",
    "slut = int(input(\"Ange vart tabellen ska sluta\"))\n",
    "\n",
    "for x in range(start,slut):\n",
    "    if x % burr == 0 and x % birr == 0:\n",
    "        print(\"birrburr\")\n",
    "    elif x % burr == 0:\n",
    "        print(\"burr\")\n",
    "    elif x % birr == 0:\n",
    "        print(\"birr\")\n",
    "    else: print(x)\n",
    "    \n",
    "    \n"
   ]
  },
  {
   "cell_type": "code",
   "execution_count": null,
   "metadata": {},
   "outputs": [],
   "source": []
  }
 ]
}