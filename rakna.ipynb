{
 "metadata": {
  "language_info": {
   "codemirror_mode": {
    "name": "ipython",
    "version": 3
   },
   "file_extension": ".py",
   "mimetype": "text/x-python",
   "name": "python",
   "nbconvert_exporter": "python",
   "pygments_lexer": "ipython3",
   "version": "3.8.3-final"
  },
  "orig_nbformat": 2,
  "kernelspec": {
   "name": "python3",
   "display_name": "Python 3"
  }
 },
 "nbformat": 4,
 "nbformat_minor": 2,
 "cells": [
  {
   "cell_type": "code",
   "execution_count": 10,
   "metadata": {
    "tags": []
   },
   "outputs": [
    {
     "output_type": "stream",
     "name": "stdout",
     "text": "Din tyngdkraft är 589.2N\nDin tyngdkraft är 589.2 N\n"
    }
   ],
   "source": [
    "g = 9.82\n",
    "\n",
    "\n",
    "m = float(input(\"Hur mycket väger du? \"))\n",
    "\n",
    "F = m*g \n",
    "\n",
    "print(f\"Din tyngdkraft är {F}N\")  \n",
    "print(\"Din tyngdkraft är\",F,\"N\")"
   ]
  },
  {
   "cell_type": "code",
   "execution_count": null,
   "metadata": {},
   "outputs": [],
   "source": [
    "decimalTal = float(input(\"Ange ett decimaltal: \"))\n",
    "procent = decimalTal*100\n",
    "\n",
    "print(f\"{decimalTal} = {procent:.0f}%\")\n",
    "print(decimalTal,\"=\",round(procent),\"%\")"
   ]
  },
  {
   "cell_type": "code",
   "execution_count": 6,
   "metadata": {
    "tags": []
   },
   "outputs": [
    {
     "output_type": "stream",
     "name": "stdout",
     "text": "15.0 kelvin är -258.15 grader celsius\n"
    }
   ],
   "source": [
    "K = float(input(\"Ange en temperatur i Kelvin\"))\n",
    "C = K-273.15\n",
    "\n",
    "print(f\"{K} kelvin är {C} grader celsius\")"
   ]
  },
  {
   "cell_type": "code",
   "execution_count": 7,
   "metadata": {
    "tags": []
   },
   "outputs": [
    {
     "output_type": "stream",
     "name": "stdout",
     "text": "30.0 grader celsius är 303.15 kelvin\n"
    }
   ],
   "source": [
    "C = float(input(\"Ange en temperatur i celsius\"))\n",
    "K = C+273.15\n",
    "\n",
    "print(f\"{C} grader celsius är {K} kelvin\")"
   ]
  },
  {
   "cell_type": "code",
   "execution_count": 27,
   "metadata": {
    "tags": []
   },
   "outputs": [
    {
     "output_type": "stream",
     "name": "stdout",
     "text": "Om du köper engångsbiljettet varje gång kommer det att bli en kostnad på 600.0kr varje månad.\n"
    }
   ],
   "source": [
    "engångsbiljett = float(input(\"Hur många gånger åker du med västtrafik varje månad?\"))\n",
    "\n",
    "engångsbiljett\n",
    "månadsbiljett\n",
    "kostnad = engångsbiljett*30\n",
    "\n",
    "print(f\"Om du köper engångsbiljettet varje gång kommer det att bli en kostnad på {kostnad}kr varje månad.\")\n",
    "\n",
    "if kostnad > 775:\n",
    "    print(\"Eftersom priset är högre än 775kr så är det mer prisvärt för dig att köpa ett månadskort för 775 kr\")\n",
    "\n",
    "if kostnad < 775:\n",
    "    print(\"Eftersom priser är mindre än 775kr så är det mer prisvärt att köpa engångsbiljetter istället för att köpa ett månadskort.\")\n"
   ]
  },
  {
   "cell_type": "code",
   "execution_count": 3,
   "metadata": {
    "tags": []
   },
   "outputs": [
    {
     "output_type": "stream",
     "name": "stdout",
     "text": "3\n"
    }
   ],
   "source": [
    "tal = 7\n",
    "\n",
    "if tal%2==0:\n",
    "    print(\"Talet är jämnt\")\n",
    "else:\n",
    "    print(\"Talet är udda\")"
   ]
  },
  {
   "cell_type": "code",
   "execution_count": 4,
   "metadata": {},
   "outputs": [
    {
     "output_type": "execute_result",
     "data": {
      "text/plain": "4.0"
     },
     "metadata": {},
     "execution_count": 4
    }
   ],
   "source": [
    "(5**2-3**2)**(1/2)"
   ]
  },
  {
   "cell_type": "code",
   "execution_count": 12,
   "metadata": {
    "tags": []
   },
   "outputs": [
    {
     "output_type": "stream",
     "name": "stdout",
     "text": "Talet är negativt\n"
    }
   ],
   "source": [
    "tal = float(input(\"Ange ett tal:\"))\n",
    "\n",
    "if tal > 0:\n",
    "    print(\"Talet är posetivt\")\n",
    "\n",
    "if tal < 0:\n",
    "    print(\"Talet är negativt\")\n",
    "\n",
    "if tal == 0:\n",
    "    print(\"Talet är noll\")\n",
    "\n"
   ]
  },
  {
   "cell_type": "code",
   "execution_count": null,
   "metadata": {},
   "outputs": [],
   "source": [
    "tal = float(inout(\"Ange ett tal:\"))\n",
    "\n",
    "if tal% "
   ]
  },
  {
   "cell_type": "code",
   "execution_count": 16,
   "metadata": {
    "tags": []
   },
   "outputs": [
    {
     "output_type": "stream",
     "name": "stdout",
     "text": "Ditt första tal är mindre än det andra\n"
    }
   ],
   "source": [
    "tal1 = float(input(\"Ange ett tal:\")) \n",
    "tal2 = float(input(\"Ange ett tal till:\"))\n",
    "\n",
    "if tal1 > tal2:\n",
    "    print(\"Ditt första tal är större än det andra\")\n",
    "\n",
    "if tal1 < tal2:\n",
    "    print(\"Ditt första tal är mindre än det andra\")"
   ]
  },
  {
   "cell_type": "code",
   "execution_count": 25,
   "metadata": {
    "tags": []
   },
   "outputs": [
    {
     "output_type": "error",
     "ename": "SyntaxError",
     "evalue": "invalid syntax (<ipython-input-25-4263ef5951e1>, line 9)",
     "traceback": [
      "\u001b[1;36m  File \u001b[1;32m\"<ipython-input-25-4263ef5951e1>\"\u001b[1;36m, line \u001b[1;32m9\u001b[0m\n\u001b[1;33m    if vinkel > 90 && vinkel > 0\u001b[0m\n\u001b[1;37m                    ^\u001b[0m\n\u001b[1;31mSyntaxError\u001b[0m\u001b[1;31m:\u001b[0m invalid syntax\n"
     ]
    }
   ],
   "source": [
    "vinkel = float(input(\"Ange en vinkel:\"))\n",
    "\n",
    "if vinkel == 360:\n",
    "    print(\"360 grader är en hel vinkel \")\n",
    "\n",
    "if vinkel == 90:\n",
    "    print(\"90 grader motsvarar en rät vinkel\")\n",
    "\n",
    "if vinkel > 90\n",
    "    print(\"{vinkel} är en spetsig vinkel\")"
   ]
  },
  {
   "cell_type": "code",
   "execution_count": null,
   "metadata": {},
   "outputs": [],
   "source": []
  }
 ]
}