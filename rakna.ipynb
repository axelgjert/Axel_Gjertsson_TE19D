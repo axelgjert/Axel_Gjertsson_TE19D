{
 "metadata": {
  "language_info": {
   "codemirror_mode": {
    "name": "ipython",
    "version": 3
   },
   "file_extension": ".py",
   "mimetype": "text/x-python",
   "name": "python",
   "nbconvert_exporter": "python",
   "pygments_lexer": "ipython3",
   "version": "3.8.3-final"
  },
  "orig_nbformat": 2,
  "kernelspec": {
   "name": "python3",
   "display_name": "Python 3"
  }
 },
 "nbformat": 4,
 "nbformat_minor": 2,
 "cells": [
  {
   "cell_type": "code",
   "execution_count": 10,
   "metadata": {
    "tags": []
   },
   "outputs": [
    {
     "output_type": "stream",
     "name": "stdout",
     "text": "Din tyngdkraft är 589.2N\nDin tyngdkraft är 589.2 N\n"
    }
   ],
   "source": [
    "g = 9.82\n",
    "\n",
    "\n",
    "m = float(input(\"Hur mycket väger du? \"))\n",
    "\n",
    "F = m*g \n",
    "\n",
    "print(f\"Din tyngdkraft är {F}N\")  \n",
    "print(\"Din tyngdkraft är\",F,\"N\")"
   ]
  },
  {
   "cell_type": "code",
   "execution_count": null,
   "metadata": {},
   "outputs": [],
   "source": [
    "decimalTal = float(input(\"Ange ett decimaltal: \"))\n",
    "procent = decimalTal*100\n",
    "\n",
    "print(f\"{decimalTal} = {procent:.0f}%\")\n",
    "print(decimalTal,\"=\",round(procent),\"%\")"
   ]
  },
  {
   "cell_type": "code",
   "execution_count": 6,
   "metadata": {
    "tags": []
   },
   "outputs": [
    {
     "output_type": "stream",
     "name": "stdout",
     "text": "15.0 kelvin är -258.15 grader celsius\n"
    }
   ],
   "source": [
    "K = float(input(\"Ange en temperatur i Kelvin\"))\n",
    "C = K-273.15\n",
    "\n",
    "print(f\"{K} kelvin är {C} grader celsius\")"
   ]
  },
  {
   "cell_type": "code",
   "execution_count": 7,
   "metadata": {
    "tags": []
   },
   "outputs": [
    {
     "output_type": "stream",
     "name": "stdout",
     "text": "30.0 grader celsius är 303.15 kelvin\n"
    }
   ],
   "source": [
    "C = float(input(\"Ange en temperatur i celsius\"))\n",
    "K = C+273.15\n",
    "\n",
    "print(f\"{C} grader celsius är {K} kelvin\")"
   ]
  },
  {
   "cell_type": "code",
   "execution_count": 27,
   "metadata": {
    "tags": []
   },
   "outputs": [
    {
     "output_type": "stream",
     "name": "stdout",
     "text": "Om du köper engångsbiljettet varje gång kommer det att bli en kostnad på 600.0kr varje månad.\n"
    }
   ],
   "source": [
    "engångsbiljett = float(input(\"Hur många gånger åker du med västtrafik varje månad?\"))\n",
    "\n",
    "engångsbiljett\n",
    "månadsbiljett\n",
    "kostnad = engångsbiljett*30\n",
    "\n",
    "print(f\"Om du köper engångsbiljettet varje gång kommer det att bli en kostnad på {kostnad}kr varje månad.\")\n",
    "\n",
    "if kostnad > 775:\n",
    "    print(\"Eftersom priset är högre än 775kr så är det mer prisvärt för dig att köpa ett månadskort för 775 kr\")\n",
    "\n",
    "if kostnad < 775:\n",
    "    print(\"Eftersom priser är mindre än 775kr så är det mer prisvärt att köpa engångsbiljetter istället för att köpa ett månadskort.\")\n"
   ]
  },
  {
   "cell_type": "code",
   "execution_count": null,
   "metadata": {},
   "outputs": [],
   "source": []
  }
 ]
}